{
 "cells": [
  {
   "cell_type": "markdown",
   "id": "5ffb6ee5",
   "metadata": {},
   "source": [
    "## <div align=\"center\"> UJIAN TENGAH SEMESTER IF540-L MACHINE LEARNING </div>\n",
    "## <div align=\"center\"> Semester Gasal 2024/2025 </div>\n",
    "## <div align=\"center\"> Pengembangan Model Prediksi Tipe Curah Hujan dengan Analisis Regresi pada Data Cuaca Historis </div>"
   ]
  },
  {
   "cell_type": "markdown",
   "id": "d4aa3c83",
   "metadata": {},
   "source": [
    "---\n",
    "### Kelompok - [isi nomor kelompok]\n",
    "\n",
    "#### Anggota Kelompok : \n",
    "1. Brightly Virya\n",
    "2. Batara Hotdo Horas Simbolon\n",
    "3. Daniel\n",
    "4. Christopher Alvaro\n",
    "..."
   ]
  },
  {
   "cell_type": "markdown",
   "id": "969da47d",
   "metadata": {},
   "source": [
    "---\n",
    "\n",
    "### Dataset yang digunakan untuk projek:\n",
    "\n",
    "1. weatherHistory.csv – sumber : https://www.kaggle.com/datasets/muthuj7/weather-dataset\n",
    "\n",
    "### Pre-processing\n",
    "* Memisahkan Train data dan Test data\n",
    "* 10% data paling baru pada weather history digunakan untuk test data menguji keakuratan model."
   ]
  },
  {
   "cell_type": "code",
   "execution_count": 1,
   "id": "8bf7a9a9",
   "metadata": {},
   "outputs": [
    {
     "name": "stderr",
     "output_type": "stream",
     "text": [
      "/var/folders/2c/6m6pkt056t9624rf6blc64kw0000gn/T/ipykernel_96535/3350121890.py:8: FutureWarning: In a future version of pandas, parsing datetimes with mixed time zones will raise an error unless `utc=True`. Please specify `utc=True` to opt in to the new behaviour and silence this warning. To create a `Series` with mixed offsets and `object` dtype, please use `apply` and `datetime.datetime.strptime`\n",
      "  df['Formatted Date'] = pd.to_datetime(df['Formatted Date'])\n"
     ]
    },
    {
     "name": "stdout",
     "output_type": "stream",
     "text": [
      "Train data shape: (86808, 12)\n",
      "Test data shape: (9645, 12)\n"
     ]
    }
   ],
   "source": [
    "import pandas as pd\n",
    "\n",
    "# Load the dataset\n",
    "file_path = 'weatherHistory.csv' \n",
    "df = pd.read_csv(file_path)\n",
    "\n",
    "# Convert 'Formatted Date' to datetime\n",
    "df['Formatted Date'] = pd.to_datetime(df['Formatted Date'])\n",
    "\n",
    "# Sort data by 'Formatted Date' to ensure it's in chronological order\n",
    "df = df.sort_values(by='Formatted Date')\n",
    "\n",
    "# Set 10% of the latest data as test data\n",
    "test_size = 0.1\n",
    "n_test = int(len(df) * test_size)\n",
    "\n",
    "# Split the data into train and test sets\n",
    "train_data = df.iloc[:-n_test]\n",
    "test_data = df.iloc[-n_test:]\n",
    "\n",
    "# Check the shape of train and test sets\n",
    "print(f\"Train data shape: {train_data.shape}\")\n",
    "print(f\"Test data shape: {test_data.shape}\")\n",
    "\n",
    "# Save the train and test data to separate CSV files\n",
    "train_data.to_csv('train_data.csv', index=False)\n",
    "test_data.to_csv('test_data.csv', index=False)"
   ]
  },
  {
   "cell_type": "markdown",
   "id": "408a62ae",
   "metadata": {},
   "source": [
    "### Hasil kerja"
   ]
  },
  {
   "cell_type": "code",
   "execution_count": null,
   "id": "38cf589a",
   "metadata": {},
   "outputs": [],
   "source": [
    "# Your codes are here (replace the following codes)\n",
    "import time\n",
    "time.sleep(10)"
   ]
  },
  {
   "cell_type": "code",
   "execution_count": null,
   "id": "ff04aba1",
   "metadata": {},
   "outputs": [],
   "source": [
    "!jupyter nbconvert --to html \"./UTS2024_IF540L_KelasAL_Kelompok_1.ipynb\" --output-dir=\"./\""
   ]
  },
  {
   "cell_type": "markdown",
   "id": "0d142d46",
   "metadata": {},
   "source": [
    "### Next step:\n",
    "* convert the generated html file to PDF using the online tool: https://www.sejda.com/html-to-pdf\n",
    "* choose the following settings:\n",
    "    * Page size: One long page\n",
    "    * Page Orientation: auto\n",
    "    * Use print stylesheet\n",
    "* Submit your ipython notebook and PDF files\n",
    "\n",
    "Markdown basics https://markdown-guide.readthedocs.io/en/latest/basics.html#"
   ]
  },
  {
   "cell_type": "markdown",
   "id": "6d14498f",
   "metadata": {},
   "source": []
  }
 ],
 "metadata": {
  "kernelspec": {
   "display_name": "Python 3 (ipykernel)",
   "language": "python",
   "name": "python3"
  },
  "language_info": {
   "codemirror_mode": {
    "name": "ipython",
    "version": 3
   },
   "file_extension": ".py",
   "mimetype": "text/x-python",
   "name": "python",
   "nbconvert_exporter": "python",
   "pygments_lexer": "ipython3",
   "version": "3.12.7"
  }
 },
 "nbformat": 4,
 "nbformat_minor": 5
}
