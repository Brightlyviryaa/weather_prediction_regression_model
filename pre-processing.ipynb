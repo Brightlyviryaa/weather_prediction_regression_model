{
 "cells": [
  {
   "cell_type": "code",
   "execution_count": 4,
   "metadata": {},
   "outputs": [
    {
     "name": "stderr",
     "output_type": "stream",
     "text": [
      "/var/folders/2c/6m6pkt056t9624rf6blc64kw0000gn/T/ipykernel_39377/3961996355.py:8: FutureWarning: In a future version of pandas, parsing datetimes with mixed time zones will raise an error unless `utc=True`. Please specify `utc=True` to opt in to the new behaviour and silence this warning. To create a `Series` with mixed offsets and `object` dtype, please use `apply` and `datetime.datetime.strptime`\n",
      "  df['Formatted Date'] = pd.to_datetime(df['Formatted Date'])\n"
     ]
    },
    {
     "name": "stdout",
     "output_type": "stream",
     "text": [
      "Train data shape: (86808, 12)\n",
      "Test data shape: (9645, 12)\n"
     ]
    }
   ],
   "source": [
    "import pandas as pd\n",
    "\n",
    "# Load the dataset\n",
    "file_path = 'weatherHistory.csv'  # Pastikan ini adalah jalur file yang benar\n",
    "df = pd.read_csv(file_path)\n",
    "\n",
    "# Convert 'Formatted Date' to datetime\n",
    "df['Formatted Date'] = pd.to_datetime(df['Formatted Date'])\n",
    "\n",
    "# Sort data by 'Formatted Date' to ensure it's in chronological order\n",
    "df = df.sort_values(by='Formatted Date')\n",
    "\n",
    "# Set 10% of the latest data as test data\n",
    "test_size = 0.1\n",
    "n_test = int(len(df) * test_size)\n",
    "\n",
    "# Split the data into train and test sets\n",
    "train_data = df.iloc[:-n_test]\n",
    "test_data = df.iloc[-n_test:]\n",
    "\n",
    "# Check the shape of train and test sets\n",
    "print(f\"Train data shape: {train_data.shape}\")\n",
    "print(f\"Test data shape: {test_data.shape}\")\n",
    "\n",
    "# Save the train and test data to separate CSV files\n",
    "train_data.to_csv('train_data.csv', index=False)\n",
    "test_data.to_csv('test_data.csv', index=False)\n"
   ]
  }
 ],
 "metadata": {
  "kernelspec": {
   "display_name": "Python 3 (ipykernel)",
   "language": "python",
   "name": "python3"
  },
  "language_info": {
   "codemirror_mode": {
    "name": "ipython",
    "version": 3
   },
   "file_extension": ".py",
   "mimetype": "text/x-python",
   "name": "python",
   "nbconvert_exporter": "python",
   "pygments_lexer": "ipython3",
   "version": "3.12.5"
  }
 },
 "nbformat": 4,
 "nbformat_minor": 2
}
